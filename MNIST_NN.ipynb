{
 "cells": [
  {
   "cell_type": "code",
   "execution_count": 1,
   "metadata": {},
   "outputs": [],
   "source": [
    "#Basic python analysis libraries\n",
    "import pandas as pd\n",
    "import numpy as np\n",
    "\n",
    "#Plotting library to view a sample image\n",
    "import matplotlib.pyplot as plt\n",
    "\n",
    "#Deep Learning Libraries\n",
    "import tensorflow as tf\n",
    "from tensorflow import keras\n",
    "\n",
    "#sklearn function to randomly split train data into validation and train data\n",
    "from sklearn.model_selection import train_test_split"
   ]
  },
  {
   "cell_type": "code",
   "execution_count": 2,
   "metadata": {},
   "outputs": [],
   "source": [
    "def open_and_configure_data():\n",
    "    \n",
    "    '''Opens the train and test CSV files. The train file is split into train and validation data'''\n",
    "    \n",
    "    train = pd.read_csv('train.csv')\n",
    "    y_train = train.label.values\n",
    "    train.drop('label', axis=1, inplace=True)\n",
    "    \n",
    "    X_test = pd.read_csv('test.csv').values\n",
    "    \n",
    "    X_train, X_valid, y_train, y_valid = train_test_split(train.values, y_train, train_size=0.8)  \n",
    "    \n",
    "    print('X_train shape', X_train.shape)\n",
    "    print('y_train shape', y_train.shape)\n",
    "    print('X_valid shape', X_valid.shape)\n",
    "    print('y_valid shape', y_valid.shape)\n",
    "    print('X_test shape', X_test.shape)\n",
    "    \n",
    "    return X_train, y_train, X_valid, y_valid, X_test"
   ]
  },
  {
   "cell_type": "code",
   "execution_count": 3,
   "metadata": {
    "scrolled": true
   },
   "outputs": [
    {
     "name": "stderr",
     "output_type": "stream",
     "text": [
      "C:\\Users\\Eric\\Anaconda3\\lib\\site-packages\\sklearn\\model_selection\\_split.py:2179: FutureWarning: From version 0.21, test_size will always complement train_size unless both are specified.\n",
      "  FutureWarning)\n"
     ]
    },
    {
     "name": "stdout",
     "output_type": "stream",
     "text": [
      "X_train shape (33600, 784)\n",
      "y_train shape (33600,)\n",
      "X_valid shape (8400, 784)\n",
      "y_valid shape (8400,)\n",
      "X_test shape (28000, 784)\n"
     ]
    }
   ],
   "source": [
    "X_train, y_train, X_valid, y_valid, X_test = open_and_configure_data()"
   ]
  },
  {
   "cell_type": "code",
   "execution_count": 4,
   "metadata": {
    "scrolled": true
   },
   "outputs": [
    {
     "data": {
      "text/plain": [
       "(<matplotlib.image.AxesImage at 0x386b33dc88>, 8)"
      ]
     },
     "execution_count": 4,
     "metadata": {},
     "output_type": "execute_result"
    },
    {
     "data": {
      "image/png": "[encoded data removed]",
      "text/plain": [
       "<Figure size 432x288 with 1 Axes>"
      ]
     },
     "metadata": {
      "needs_background": "light"
     },
     "output_type": "display_data"
    }
   ],
   "source": [
    "#Plot a sample image along with its label\n",
    "plt.imshow(X_train[0].reshape(-1, 28)), y_train[0]"
   ]
  },
  {
   "cell_type": "code",
   "execution_count": 5,
   "metadata": {},
   "outputs": [],
   "source": [
    "def build_nn_model():\n",
    "    \n",
    "    '''Construct and compile a keras deep learning neural network'''\n",
    "    \n",
    "    model = keras.models.Sequential()\n",
    "    model.add(keras.layers.Input(batch_size=32, shape=784,))\n",
    "    model.add(keras.layers.Dense(784, activation='relu'))\n",
    "    model.add(keras.layers.Dropout(0.25))\n",
    "    model.add(keras.layers.Dense(784, activation='relu'))\n",
    "    model.add(keras.layers.Dropout(0.25))\n",
    "    model.add(keras.layers.Dense(784, activation='relu'))\n",
    "    model.add(keras.layers.Dropout(0.25))\n",
    "    model.add(keras.layers.Dense(784, activation='relu'))\n",
    "    model.add(keras.layers.Dense(10, activation=keras.activations.softmax))\n",
    "    \n",
    "    model.compile(optimizer=keras.optimizers.Adam(), \n",
    "                  metrics=['accuracy'], \n",
    "                  loss=keras.losses.SparseCategoricalCrossentropy())\n",
    "    \n",
    "    return model"
   ]
  },
  {
   "cell_type": "code",
   "execution_count": 6,
   "metadata": {},
   "outputs": [],
   "source": [
    "model = build_nn_model()"
   ]
  },
  {
   "cell_type": "code",
   "execution_count": 7,
   "metadata": {},
   "outputs": [],
   "source": [
    "def train_model():\n",
    "    \n",
    "    '''Trains the neural network model constructed earlier'''\n",
    "    \n",
    "    model.fit(X_train, y_train, \n",
    "              epochs=100, \n",
    "              validation_data=(X_valid, y_valid),\n",
    "             callbacks=[keras.callbacks.EarlyStopping(patience=5, restore_best_weights=True),\n",
    "                       keras.callbacks.ReduceLROnPlateau(factor=0.5, patience=4)])"
   ]
  },
  {
   "cell_type": "code",
   "execution_count": 8,
   "metadata": {
    "scrolled": true
   },
   "outputs": [
    {
     "name": "stdout",
     "output_type": "stream",
     "text": [
      "Train on 33600 samples, validate on 8400 samples\n",
      "Epoch 1/100\n",
      "33600/33600 [==============================] - 39s 1ms/sample - loss: 1.7404 - accuracy: 0.8196 - val_loss: 0.2724 - val_accuracy: 0.9268\n",
      "Epoch 2/100\n",
      "33600/33600 [==============================] - 38s 1ms/sample - loss: 0.3198 - accuracy: 0.9107 - val_loss: 0.2311 - val_accuracy: 0.9342\n",
      "Epoch 3/100\n",
      "33600/33600 [==============================] - 39s 1ms/sample - loss: 0.2611 - accuracy: 0.9286 - val_loss: 0.2252 - val_accuracy: 0.9427\n",
      "Epoch 4/100\n",
      "33600/33600 [==============================] - 39s 1ms/sample - loss: 0.2293 - accuracy: 0.9388 - val_loss: 0.1887 - val_accuracy: 0.9483\n",
      "Epoch 5/100\n",
      "33600/33600 [==============================] - 40s 1ms/sample - loss: 0.2201 - accuracy: 0.9414 - val_loss: 0.2309 - val_accuracy: 0.9446\n",
      "Epoch 6/100\n",
      "33600/33600 [==============================] - 39s 1ms/sample - loss: 0.2144 - accuracy: 0.9479 - val_loss: 0.1774 - val_accuracy: 0.9577\n",
      "Epoch 7/100\n",
      "33600/33600 [==============================] - 44s 1ms/sample - loss: 0.2049 - accuracy: 0.9500 - val_loss: 0.2643 - val_accuracy: 0.9500\n",
      "Epoch 8/100\n",
      "33600/33600 [==============================] - 45s 1ms/sample - loss: 0.1982 - accuracy: 0.9527 - val_loss: 0.1881 - val_accuracy: 0.9620\n",
      "Epoch 9/100\n",
      "33600/33600 [==============================] - 51s 2ms/sample - loss: 0.2060 - accuracy: 0.9530 - val_loss: 0.1656 - val_accuracy: 0.9613\n",
      "Epoch 10/100\n",
      "33600/33600 [==============================] - 47s 1ms/sample - loss: 0.1792 - accuracy: 0.9600 - val_loss: 0.1677 - val_accuracy: 0.9632\n",
      "Epoch 11/100\n",
      "33600/33600 [==============================] - 47s 1ms/sample - loss: 0.1857 - accuracy: 0.9598 - val_loss: 0.1531 - val_accuracy: 0.9705\n",
      "Epoch 12/100\n",
      "33600/33600 [==============================] - 42s 1ms/sample - loss: 0.1636 - accuracy: 0.9649 - val_loss: 0.1674 - val_accuracy: 0.9675\n",
      "Epoch 13/100\n",
      "33600/33600 [==============================] - 43s 1ms/sample - loss: 0.1715 - accuracy: 0.9638 - val_loss: 0.1884 - val_accuracy: 0.9655\n",
      "Epoch 14/100\n",
      "33600/33600 [==============================] - 39s 1ms/sample - loss: 0.1818 - accuracy: 0.9642 - val_loss: 0.2165 - val_accuracy: 0.9655\n",
      "Epoch 15/100\n",
      "33600/33600 [==============================] - 39s 1ms/sample - loss: 0.1667 - accuracy: 0.9650 - val_loss: 0.2101 - val_accuracy: 0.9625\n",
      "Epoch 16/100\n",
      "33600/33600 [==============================] - 46s 1ms/sample - loss: 0.0973 - accuracy: 0.9778 - val_loss: 0.1716 - val_accuracy: 0.9714\n"
     ]
    }
   ],
   "source": [
    "train_model()"
   ]
  },
  {
   "cell_type": "code",
   "execution_count": 9,
   "metadata": {},
   "outputs": [],
   "source": [
    "def generate_test_predictions():\n",
    "    \n",
    "    '''Predicts the class labels for the test dataset and dumps them in a csv file for upload to kaggle'''\n",
    "    \n",
    "    solution = model.predict_classes(X_test)\n",
    "    index = np.arange(1, len(solution)+1)\n",
    "    df = pd.DataFrame({'Label': solution}, index=np.arange(1, len(solution)+1))\n",
    "    df.index.name = 'ImageId'\n",
    "    df.to_csv('solution.csv', index=True)"
   ]
  },
  {
   "cell_type": "code",
   "execution_count": 10,
   "metadata": {},
   "outputs": [],
   "source": [
    "generate_test_predictions() #Acheives 0.96982 on kaggle"
   ]
  }
 ],
 "metadata": {
  "kernelspec": {
   "display_name": "Python 3",
   "language": "python",
   "name": "python3"
  },
  "language_info": {
   "codemirror_mode": {
    "name": "ipython",
    "version": 3
   },
   "file_extension": ".py",
   "mimetype": "text/x-python",
   "name": "python",
   "nbconvert_exporter": "python",
   "pygments_lexer": "ipython3",
   "version": "3.7.3"
  }
 },
 "nbformat": 4,
 "nbformat_minor": 2
}
